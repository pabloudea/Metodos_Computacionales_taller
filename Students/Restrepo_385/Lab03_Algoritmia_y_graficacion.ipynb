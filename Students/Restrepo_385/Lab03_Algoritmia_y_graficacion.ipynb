{
  "nbformat": 4,
  "nbformat_minor": 0,
  "metadata": {
    "colab": {
      "provenance": [],
      "include_colab_link": true
    },
    "kernelspec": {
      "name": "python3",
      "display_name": "Python 3"
    },
    "language_info": {
      "name": "python"
    }
  },
  "cells": [
    {
      "cell_type": "markdown",
      "metadata": {
        "id": "view-in-github",
        "colab_type": "text"
      },
      "source": [
        "<a href=\"https://colab.research.google.com/github/pabloudea/Metodos_Computacionales_taller/blob/main/Students/Restrepo_385/Lab03_Algoritmia_y_graficacion.ipynb\" target=\"_parent\"><img src=\"https://colab.research.google.com/assets/colab-badge.svg\" alt=\"Open In Colab\"/></a>"
      ]
    },
    {
      "cell_type": "markdown",
      "source": [
        "<a href=\"https://colab.research.google.com/github/hernansalinas/autogrades/blob/main/Laboratorios_Taller/Lab03_Algoritmia_y_graficacion.ipynb\" target=\"_parent\"><img src=\"https://colab.research.google.com/assets/colab-badge.svg\" alt=\"Open In Colab\"/></a>"
      ],
      "metadata": {
        "id": "GrhlCVr1lS7o"
      }
    },
    {
      "cell_type": "markdown",
      "source": [
        "1.0 Caos numérico en un mapa logístico y errores de punto flotante (Errores de redondeo)\n",
        "\n",
        "> Un ejemplo clásico de caos,  es el comportamiento no lineal en las interaciones de un mapa logístico \n",
        "\n",
        "\\begin{equation}\n",
        "x_{n+1}=f(x_n)=rx_n(1-x_n)\n",
        "\\end{equation}\n",
        "\n",
        "> con $x\\in (0,1)$ y $r\\in(0,4)$ se pueden producir varios comportamientos sorprendentes.\n",
        "\n",
        "Para este problema, será extremadamente útil  ver sus resultados gráficamente; construya listas de números y llame la libreria matplotlib. \n",
        "\n",
        "\n",
        "> ### Problema: \n",
        "1. Programar la ecuación para el mapa logístico, y  realizar una grafica del valor de xn como funcion de n.\n",
        "\n",
        "2. Realizar pruebas para un $x_0=0.5$, con valores de r\n",
        "\n",
        "```\n",
        "  r = np.array([1.9, 2.9, 3.1, 3.5, 3.9,4.0])\n",
        "  numpoints = 100, # Numero sugerido de iteraciones\n",
        "  x0 = 0.5\n",
        "```\n",
        "\n",
        "Organizar las gráficas [multiples plot](https://matplotlib.org/stable/gallery/subplots_axes_and_figures/subplots_demo.html)\n",
        "\n",
        "\n",
        "\n",
        "3. Construye una rutina llamada logist_map en que entrada el valor de r, la condiciones inicial xi y el número de puntos determine la evolución en el punto N.  Prueba implementado las siguientes lineas.\n",
        "\n",
        "```\n",
        "Np = 1000\n",
        "xf = np.zeros(Np)\n",
        "r  = np.linspace(2.5, 4, Np)\n",
        " \n",
        "for i in range(0, Np): \n",
        "  xini = np.random.random()\n",
        "  x_i = logist_map(r = r[i], xi = xini, N = 1000) \n",
        "  xf[i] = x_i\n",
        "```\n",
        "\n",
        "\n",
        "4. Realiza un gráfico de:\n",
        "```\n",
        "  plt.plot((r-1/r), xf,  \".\", markersize = 0.5)\n",
        "```\n",
        "\n",
        "\n",
        "5. Encontrar dos formas adicionales de expresar $f(x)$, para estos valores funcionales determinar las mismas gráficas del numeral 3 para cada uno de las formas de escribir la expresión. En este caso se espera que los resultados varien. ¿A que se debe esto?. La respuesta no es inmediata, constulta algunas fuentes para sacar tu propia conclusión.\n",
        "\n"
      ],
      "metadata": {
        "id": "SkZguDaDeyAZ"
      }
    },
    {
      "cell_type": "markdown",
      "source": [
        "2.0 El algoritmo de gradiente descendente permite encontrar el minimo de funciones en espacios multidimensionales proponiendo puntos en la direccion en la que el gradiente desciende. Para el caso de una dimensión, podemos encontrar el mínimo realizando iteraciones y multiplicando su derivada en cada nuevo punto por una constante $\\alpha$\n",
        "\n",
        "\\begin{equation}\n",
        "x_{i+1}=x_i - \\alpha \\frac{\\mathrm{d}f}{\\mathrm{d}x}(x_i)\n",
        "\\end{equation}\n",
        "\n",
        "\n"
      ],
      "metadata": {
        "id": "TfAf3lDVfD1d"
      }
    },
    {
      "cell_type": "markdown",
      "source": [
        "Ejemplo:\n",
        "\n",
        "Sea $f(\\omega) = (\\omega-1)^2$ , con $\\omega \\in \\mathbb{R} $. El minimo de esta función esta determinado por\n",
        "\\begin{equation}\n",
        "\\frac{\\mathrm{d}f}{\\mathrm{d}\\omega} = 0\n",
        "\\end{equation}\n",
        "\n",
        "\\begin{equation}\n",
        "\\omega = 1\n",
        "\\end{equation}\n",
        "\n",
        "\n",
        "Para determinar el minimo,  a través del gradiente descendente puede ser aplicada el siguiente algoritmo:\n",
        "1. Proponer un número aleatorios inicial $\\omega_i$\n",
        "2. Para descender al mínimo de la función, encontremos un  valor para el cual \n",
        "la derivada de la función descenciende, asi:\n",
        "\\begin{equation}\n",
        "\\omega_{i+1} = \\omega_{i} - \\alpha \\frac{\\mathrm{d}f(\\omega_i)}{\\mathrm{d}\\omega}\n",
        "\\end{equation}\n",
        "\n",
        "donde, $\\alpha$ es conocido como la tasa de aprendizaje del algoritmo. \n",
        "\n",
        "3. Evaluar $f(\\omega_{i+1})$\n",
        "\n",
        "4. Iterar hasta encontrar el minimo de la función \n",
        "\n",
        "\n",
        "En el caso de la funcion propuesta, asumiendo un valor de $\\alpha=1$, tenemos que:\n",
        "\n",
        "1. Supongamos que $\\omega_{0} = 2$, luego :\n",
        "2. $\\omega_{0+1} = 2 - 1 f'(\\omega_{0}) =  = 0$\n",
        "3. $f(0) = 1$\n",
        "4. $\\omega_{1+1} = 0 - 1 f'(\\omega_{1}) = 0-1(2(0-1)) =  2$\n",
        "\n",
        "El valor del $\\omega$  despues de un par de iteraciones, no es el esperado, por que no minimiza la función, se debe proponer un tasa de aprendizaje  **$\\alpha$** de tal forma que permita descender suavemente para encontrar el minimo. \n",
        "\n",
        "\n",
        "\n",
        "**Su tarea será**:\n",
        "\n",
        "1. Disenar un programa, en el que entrada la función y su derivada, definidas como funciones lambda de python, se determine el valor mínimo de esa función. \n",
        "Prueba tu algoritmo para  la función $f(x) = x^2$\n",
        "\n",
        "2. Realiza el grafico de la funcion y la derivada, especifica la leyenda de cada curva empleando el metodo legend() de matplotlib.\n",
        "  \n",
        "\n",
        "3. Analiza como se minimiza la función, gráficando de la funcion en cada punto a iterar,  como funcion del numero de iteraciones. Para dos valores diferentes de la constante alpha (prueba con $\\alpha=0.1$, $\\alpha=0.01$)\n"
      ],
      "metadata": {
        "id": "3X1VWZyEhjaM"
      }
    }
  ]
}